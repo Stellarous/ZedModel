{
 "cells": [
  {
   "cell_type": "markdown",
   "id": "8c23fddc-8c60-42a8-a1e9-29137e14ea7c",
   "metadata": {},
   "source": [
    "# MVC of ABM\n",
    "This is a Minimum Viable Code (MVC) for an Agent-Based Model (ABM). It is designed to be extensable and the documentation is integrated into the source code."
   ]
  },
  {
   "cell_type": "markdown",
   "id": "6615690e-402b-4c99-8bd6-71d93c1ddcd0",
   "metadata": {},
   "source": [
    "## Overview of the MESA library\n",
    "Mesa is modular, meaning that its modeling, analysis and visualization components are kept separate but intended to work together. The modules are grouped into three categories:\n",
    "\n",
    "**Modeling**: Classes used to build the models themselves: a model and agent classes, space for them to move around in, and built-in functionality for managing agents.\n",
    "\n",
    "**Analysis**: Tools to collect data generated from your model, or to run it multiple times with different parameter values.\n",
    "\n",
    "**Visualization**: Classes to create and launch an interactive model visualization, using a browser-based interface."
   ]
  },
  {
   "cell_type": "markdown",
   "id": "75fe0da3-335d-410d-a84d-a048c924e910",
   "metadata": {},
   "source": [
    "## Modeling modules\n",
    "Most models consist of one class to represent the model itself and one or more classes for agents. Mesa provides built-in functionality for managing agents and their interactions. These are implemented in Mesa’s modeling modules:\n",
    "\n",
    "- mesa.model\n",
    "- mesa.agent\n",
    "- mesa.space"
   ]
  },
  {
   "cell_type": "markdown",
   "id": "cb9cc3b4-eae3-4219-b92f-12209f99cfc0",
   "metadata": {},
   "source": [
    "The skeleton of a model might look like this:"
   ]
  },
  {
   "cell_type": "code",
   "execution_count": 5,
   "id": "a6fa8333-fb0d-42b4-87d7-4db672f7a4bb",
   "metadata": {},
   "outputs": [],
   "source": [
    "import mesa\n",
    "\n",
    "class MyAgent(mesa.Agent): #using mesa built-in function `mesa.Agent`.\n",
    "    def __init__(self, model, age):\n",
    "        super().__init__(model)\n",
    "        self.age = age\n",
    "\n",
    "    def step(self):\n",
    "        self.age += 1\n",
    "        print(f\"Agent {self.unique_id} now is {self.age} years old\")\n",
    "        # Whatever else the agent does when activated\n",
    "\n",
    "class MyModel(mesa.Model): #using mesa built-in function `mesa.Model`.\n",
    "    def __init__(self, n_agents):\n",
    "        super().__init__()\n",
    "        self.grid = mesa.space.MultiGrid(10, 10, torus=True)\n",
    "        for _ in range(n_agents):\n",
    "            initial_age = self.random.randint(0, 80)\n",
    "            a = MyAgent(self, initial_age)\n",
    "            coords = (self.random.randrange(0, 10), self.random.randrange(0, 10))\n",
    "            self.grid.place_agent(a, coords)\n",
    "\n",
    "    def step(self):\n",
    "        self.agents.shuffle_do(\"step\")"
   ]
  },
  {
   "cell_type": "markdown",
   "id": "0845f635-b8f4-4afd-a706-252a2b141c26",
   "metadata": {},
   "source": [
    "## Spaces in Mesa\n",
    "Mesa provides several types of spaces where agents can exist and interact:\n",
    "\n",
    "### Discrete Spaces\n",
    "Mesa implements discrete spaces using a doubly-linked structure where each cell maintains connections to its neighbors. Available variants include:\n",
    "1. Grid-based Spaces\n",
    "2. Network Space\n",
    "3. Voronoi Space\n",
    "\n",
    "### Continuous Space\n",
    "For models requiring continuous movement."
   ]
  },
  {
   "cell_type": "markdown",
   "id": "4a09b245-15a0-4f08-8aaa-0e10c31c63aa",
   "metadata": {},
   "source": [
    "## Resources and Citations:\n",
    "- Hoeven, E., Kwakkel, J., Hess, V., Pike, T., Wang, B., rht, & Kazil, J. (2025). Mesa 3: Agent-based modeling with Python in 2025. Journal of Open Source Software, 10(107), 7668. https://doi.org/10.21105/joss.07668."
   ]
  },
  {
   "cell_type": "code",
   "execution_count": null,
   "id": "7d8916af-9865-4965-8a13-1497806de8a7",
   "metadata": {},
   "outputs": [],
   "source": []
  }
 ],
 "metadata": {
  "kernelspec": {
   "display_name": "Python 3",
   "language": "python",
   "name": "python3"
  },
  "language_info": {
   "codemirror_mode": {
    "name": "ipython",
    "version": 3
   },
   "file_extension": ".py",
   "mimetype": "text/x-python",
   "name": "python",
   "nbconvert_exporter": "python",
   "pygments_lexer": "ipython3",
   "version": "3.9.12"
  }
 },
 "nbformat": 4,
 "nbformat_minor": 5
}
