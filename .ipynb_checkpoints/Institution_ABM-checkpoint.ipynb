{
 "cells": [
  {
   "cell_type": "markdown",
   "id": "9c4e50c1-677e-4ca8-9c13-2e74ae3ebcb5",
   "metadata": {},
   "source": [
    "### Model of institution in and agent-based model."
   ]
  },
  {
   "cell_type": "markdown",
   "id": "9044b388-b522-43c4-8dd9-4725214faf6f",
   "metadata": {},
   "source": [
    "This is an agent-based model (ABM) of a Public Healthcare Institution using Python's Mesa library. This model will simulate how access to healthcare services affects societal health outcomes."
   ]
  },
  {
   "cell_type": "markdown",
   "id": "f36e0998-052f-442e-a405-5dc1350cb0c5",
   "metadata": {},
   "source": [
    "**Model Concept: Healthcare Access Simulation**\n",
    "\n",
    "Components:\n",
    "- Citizens (agents) with varying health statuses and income levels.\n",
    "- Hospitals (agents) providing healthcare services.\n",
    "- Government policies (model-level parameters) affecting accessibility."
   ]
  },
  {
   "cell_type": "markdown",
   "id": "246aba7e-8967-4bb2-9ce8-4fd46d9d8a6e",
   "metadata": {},
   "source": [
    "Key dynamics:\n",
    "- Citizens' health deteriorates over time.\n",
    "- Wealthier citizens access healthcare more easily.\n",
    "- Hospital capacity limits service availability.\n",
    "- Government funding affects service quality."
   ]
  },
  {
   "cell_type": "code",
   "execution_count": 7,
   "id": "f24cda26-4b37-4085-b56c-9017a2df8fb6",
   "metadata": {},
   "outputs": [
    {
     "ename": "SyntaxError",
     "evalue": "invalid syntax (2077240261.py, line 49)",
     "output_type": "error",
     "traceback": [
      "\u001b[0;36m  Input \u001b[0;32mIn [7]\u001b[0;36m\u001b[0m\n\u001b[0;31m    def step(self):\u001b[0m\n\u001b[0m    ^\u001b[0m\n\u001b[0;31mSyntaxError\u001b[0m\u001b[0;31m:\u001b[0m invalid syntax\n"
     ]
    }
   ],
   "source": [
    "import mesa\n",
    "import random\n",
    "import numpy as np\n",
    "\n",
    "class Citizen(mesa.Agent):\n",
    "    def __init__(self, unique_id, model, income_level):\n",
    "        super().__init__(unique_id, model)\n",
    "        self.health = random.uniform(0.7, 1.0)  # 0.0-1.0 scale\n",
    "        self.income_level = income_level  # Low:0, Medium:1, High:2\n",
    "        \n",
    "    def step(self):\n",
    "        # Health naturally deteriorates\n",
    "        self.health -= random.uniform(0.01, 0.05)\n",
    "        \n",
    "        # Prevent health from going below 0\n",
    "        self.health = max(0.0, self.health)\n",
    "        \n",
    "        # Seek healthcare if health is poor\n",
    "        if self.health < 0.6 and random.random() < 0.7:\n",
    "            self.seek_treatment()\n",
    "    \n",
    "    def seek_treatment(self):\n",
    "        # Find nearest hospital\n",
    "        nearest_hospital = min(\n",
    "            self.model.hospitals, \n",
    "            key=lambda h: self.distance_to(h)\n",
    "        )\n",
    "        nearest_hospital.request_treatment(self)\n",
    "    \n",
    "    def distance_to(self, other_agent):\n",
    "        \"\"\"Calculate Euclidean distance to another agent\"\"\"\n",
    "        return np.sqrt((self.pos[0]-other_agent.pos[0])**2 + \n",
    "                      (self.pos[1]-other_agent.pos[1])**2)\n",
    "\n",
    "class Hospital(mesa.Agent):\n",
    "    def __init__(self, unique_id, model, capacity):\n",
    "        super().__init__(unique_id, model)\n",
    "        self.capacity = capacity\n",
    "        self.current_patients = 0\n",
    "        self.success_rate = 0.8  # Base success rate\n",
    "        \n",
    "    def request_treatment(self, patient):\n",
    "        if self.current_patients < self.capacity:\n",
    "            self.current_patients += 1\n",
    "            # Wealthier patients get better care\n",
    "            effectiveness = min(1.0, self.success_rate + patient.income_level*0.1)\n",
    "            patient.health = min(1.0, patient.health + random.uniform(0.2, 0.4)*effectiveness\n",
    "            \n",
    "    def step(self):\n",
    "        # Reset capacity each step\n",
    "        self.current_patients = 0\n",
    "\n",
    "class HealthcareModel(mesa.Model):\n",
    "    def __init__(self, population=100, hospital_count=3, gov_funding=0.5):\n",
    "        self.num_agents = population\n",
    "        self.schedule = mesa.time.RandomActivation(self)\n",
    "        self.grid = mesa.space.MultiGrid(20, 20, True)\n",
    "        self.hospitals = []\n",
    "        \n",
    "        # Create citizens\n",
    "        for i in range(population):\n",
    "            income = random.choices([0,1,2], weights=[0.4,0.35,0.25])[0]\n",
    "            citizen = Citizen(i, self, income)\n",
    "            self.schedule.add(citizen)\n",
    "            x = random.randrange(self.grid.width)\n",
    "            y = random.randrange(self.grid.height)\n",
    "            self.grid.place_agent(citizen, (x, y))\n",
    "        \n",
    "        # Create hospitals\n",
    "        for i in range(hospital_count):\n",
    "            hospital = Hospital(1000+i, self, capacity=15+int(gov_funding*20))\n",
    "            hospital.success_rate = 0.6 + gov_funding*0.4\n",
    "            self.hospitals.append(hospital)\n",
    "            self.schedule.add(hospital)\n",
    "            x = random.randrange(self.grid.width)\n",
    "            y = random.randrange(self.grid.height)\n",
    "            self.grid.place_agent(hospital, (x, y))\n",
    "    \n",
    "    def step(self):\n",
    "        self.schedule.step()\n",
    "\n",
    "# Run the simulation\n",
    "model = HealthcareModel(population=200, gov_funding=0.7)\n",
    "\n",
    "for i in range(100):\n",
    "    model.step()\n",
    "\n",
    "# Calculate statistics\n",
    "citizens = [a for a in model.schedule.agents if isinstance(a, Citizen)]\n",
    "avg_health = sum([a.health for a in citizens])/len(citizens)\n",
    "health_inequality = np.std([a.health for a in citizens])\n",
    "\n",
    "print(f\"Average health: {avg_health:.3f}\")\n",
    "print(f\"Health inequality: {health_inequality:.3f}\")\n",
    "print(f\"Low-income health: {sum([a.health for a in citizens if a.income_level==0])/len([a for a in citizens if a.income_level==0]):.3f}\")\n",
    "print(f\"High-income health: {sum([a.health for a in citizens if a.income_level==2])/len([a for a in citizens if a.income_level==2]):.3f}\")"
   ]
  },
  {
   "cell_type": "code",
   "execution_count": 4,
   "id": "9add6c85-16af-4d53-b4df-35ac0830518c",
   "metadata": {},
   "outputs": [
    {
     "ename": "NameError",
     "evalue": "name 'mesa' is not defined",
     "output_type": "error",
     "traceback": [
      "\u001b[0;31m---------------------------------------------------------------------------\u001b[0m",
      "\u001b[0;31mNameError\u001b[0m                                 Traceback (most recent call last)",
      "Input \u001b[0;32mIn [4]\u001b[0m, in \u001b[0;36m<cell line: 8>\u001b[0;34m()\u001b[0m\n\u001b[1;32m      5\u001b[0m     \u001b[38;5;28;01melse\u001b[39;00m:\n\u001b[1;32m      6\u001b[0m         \u001b[38;5;28;01mreturn\u001b[39;00m {\u001b[38;5;124m\"\u001b[39m\u001b[38;5;124mShape\u001b[39m\u001b[38;5;124m\"\u001b[39m: \u001b[38;5;124m\"\u001b[39m\u001b[38;5;124mrect\u001b[39m\u001b[38;5;124m\"\u001b[39m, \u001b[38;5;124m\"\u001b[39m\u001b[38;5;124mColor\u001b[39m\u001b[38;5;124m\"\u001b[39m: \u001b[38;5;124m\"\u001b[39m\u001b[38;5;124mblue\u001b[39m\u001b[38;5;124m\"\u001b[39m, \u001b[38;5;124m\"\u001b[39m\u001b[38;5;124mw\u001b[39m\u001b[38;5;124m\"\u001b[39m: \u001b[38;5;241m1\u001b[39m, \u001b[38;5;124m\"\u001b[39m\u001b[38;5;124mh\u001b[39m\u001b[38;5;124m\"\u001b[39m: \u001b[38;5;241m1\u001b[39m}\n\u001b[0;32m----> 8\u001b[0m grid \u001b[38;5;241m=\u001b[39m \u001b[43mmesa\u001b[49m\u001b[38;5;241m.\u001b[39mvisualization\u001b[38;5;241m.\u001b[39mCanvasGrid(portray, \u001b[38;5;241m20\u001b[39m, \u001b[38;5;241m20\u001b[39m, \u001b[38;5;241m500\u001b[39m, \u001b[38;5;241m500\u001b[39m)\n\u001b[1;32m      9\u001b[0m server \u001b[38;5;241m=\u001b[39m mesa\u001b[38;5;241m.\u001b[39mvisualization\u001b[38;5;241m.\u001b[39mModularServer(HealthcareModel, [grid], \u001b[38;5;124m\"\u001b[39m\u001b[38;5;124mHealthcare Model\u001b[39m\u001b[38;5;124m\"\u001b[39m)\n\u001b[1;32m     10\u001b[0m server\u001b[38;5;241m.\u001b[39mport \u001b[38;5;241m=\u001b[39m \u001b[38;5;241m8521\u001b[39m\n",
      "\u001b[0;31mNameError\u001b[0m: name 'mesa' is not defined"
     ]
    }
   ],
   "source": [
    "def portray(agent):\n",
    "    if type(agent) is Citizen:\n",
    "        color = [\"red\", \"yellow\", \"green\"][agent.income_level]\n",
    "        return {\"Shape\": \"circle\", \"Color\": color, \"r\": 0.5}\n",
    "    else:\n",
    "        return {\"Shape\": \"rect\", \"Color\": \"blue\", \"w\": 1, \"h\": 1}\n",
    "\n",
    "grid = mesa.visualization.CanvasGrid(portray, 20, 20, 500, 500)\n",
    "server = mesa.visualization.ModularServer(HealthcareModel, [grid], \"Healthcare Model\")\n",
    "server.port = 8521\n",
    "server.launch()"
   ]
  },
  {
   "cell_type": "code",
   "execution_count": null,
   "id": "c7ac2074-01b9-4a9c-b80d-e85468bc39c2",
   "metadata": {},
   "outputs": [],
   "source": []
  }
 ],
 "metadata": {
  "kernelspec": {
   "display_name": "Python 3",
   "language": "python",
   "name": "python3"
  },
  "language_info": {
   "codemirror_mode": {
    "name": "ipython",
    "version": 3
   },
   "file_extension": ".py",
   "mimetype": "text/x-python",
   "name": "python",
   "nbconvert_exporter": "python",
   "pygments_lexer": "ipython3",
   "version": "3.9.12"
  }
 },
 "nbformat": 4,
 "nbformat_minor": 5
}
