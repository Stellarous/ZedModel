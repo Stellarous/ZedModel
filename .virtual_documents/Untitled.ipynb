











import mesa
import random
import numpy as np

# Define Agent Types
class Citizen(mesa.Agent):
    def __init__(self, unique_id, model, income_level):
        super().__init__(unique_id, model)
        self.health = random.uniform(0.7, 1.0)  # 0.0-1.0 scale
        self.income_level = income_level  # Low:0, Medium:1, High:2
        
    def step(self):
        # Health naturally deteriorates
        self.health -= random.uniform(0.01, 0.05)
        
        # Seek healthcare if health is poor
        if self.health < 0.6 and random.random() < 0.7:
            self.seek_treatment()
    
    def seek_treatment(self):
        # Find nearest hospital
        nearest_hospital = min(
            self.model.hospitals, 
            key=lambda h: self.distance_to(h)
        )
        nearest_hospital.request_treatment(self)

class Hospital(mesa.Agent):
    def __init__(self, unique_id, model, capacity):
        super().__init__(unique_id, model)
        self.capacity = capacity
        self.current_patients = 0
        self.success_rate = 0.8  # Base success rate
        
    def request_treatment(self, patient):
        if self.current_patients < self.capacity:
            self.current_patients += 1
            # Wealthier patients get better care
            effectiveness = min(1.0, self.success_rate + patient.income_level*0.1)
            patient.health = min(1.0, patient.health + random.uniform(0.2, 0.4)*effectiveness
            
    def step(self):
        # Reset capacity each step
        self.current_patients = 0

# Define the Overall Model
class HealthcareModel(mesa.Model):
    def __init__(self, population=100, hospital_count=3, gov_funding=0.5):
        self.num_agents = population
        self.schedule = mesa.time.RandomActivation(self)
        self.grid = mesa.space.MultiGrid(20, 20, True)
        self.hospitals = []
        
        # Create citizens
        for i in range(population):
            income = random.choices([0,1,2], weights=[0.4,0.35,0.25])[0]
            citizen = Citizen(i, self, income)
            self.schedule.add(citizen)
            x = random.randrange(self.grid.width)
            y = random.randrange(self.grid.height)
            self.grid.place_agent(citizen, (x, y))
        
        # Create hospitals
        for i in range(hospital_count):
            hospital = Hospital(1000+i, self, capacity=15+int(gov_funding*20))
            hospital.success_rate = 0.6 + gov_funding*0.4
            self.hospitals.append(hospital)
            self.schedule.add(hospital)
            x = random.randrange(self.grid.width)
            y = random.randrange(self.grid.height)
            self.grid.place_agent(hospital, (x, y))
    
    def step(self):
        self.schedule.step()

    def distance_to(self, other_agent):
        return np.sqrt((self.pos[0]-other_agent.pos[0])**2 + 
                      (self.pos[1]-other_agent.pos[1])**2)


def portray(agent):
    if type(agent) is Citizen:
        color = ["red", "yellow", "green"][agent.income_level]
        return {"Shape": "circle", "Color": color, "r": 0.5}
    else:
        return {"Shape": "rect", "Color": "blue", "w": 1, "h": 1}

grid = mesa.visualization.CanvasGrid(portray, 20, 20, 500, 500)
server = mesa.visualization.ModularServer(HealthcareModel, [grid], "Healthcare Model")
server.port = 8521
server.launch()



